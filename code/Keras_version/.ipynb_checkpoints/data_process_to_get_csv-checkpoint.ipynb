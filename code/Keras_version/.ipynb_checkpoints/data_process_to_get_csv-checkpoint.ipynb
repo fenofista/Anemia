{
 "cells": [
  {
   "cell_type": "code",
   "execution_count": 4,
   "id": "permanent-montana",
   "metadata": {},
   "outputs": [],
   "source": [
    "import cv2\n",
    "import matplotlib.pyplot as plt\n",
    "import os\n",
    "import pandas as pd"
   ]
  },
  {
   "cell_type": "code",
   "execution_count": 5,
   "id": "another-carol",
   "metadata": {},
   "outputs": [],
   "source": [
    "path_arr = os.listdir(\"../../data\")"
   ]
  },
  {
   "cell_type": "code",
   "execution_count": 6,
   "id": "micro-dating",
   "metadata": {},
   "outputs": [],
   "source": [
    "image_path = []\n",
    "mask_path = []\n",
    "for i in range(0, len(path_arr)):\n",
    "    image_path.append(\"../../data/\"+path_arr[i])\n",
    "    \n",
    "\n",
    "# intialise data of lists.\n",
    "data = {'image_path':image_path}\n",
    " \n",
    "# Create DataFrame\n",
    "df = pd.DataFrame(data)\n",
    " \n",
    "# Print the output.\n",
    "df.to_csv(\"data.csv\", index=False)"
   ]
  },
  {
   "cell_type": "code",
   "execution_count": null,
   "id": "coated-officer",
   "metadata": {},
   "outputs": [],
   "source": []
  }
 ],
 "metadata": {
  "kernelspec": {
   "display_name": "Python 3 (ipykernel)",
   "language": "python",
   "name": "python3"
  },
  "language_info": {
   "codemirror_mode": {
    "name": "ipython",
    "version": 3
   },
   "file_extension": ".py",
   "mimetype": "text/x-python",
   "name": "python",
   "nbconvert_exporter": "python",
   "pygments_lexer": "ipython3",
   "version": "3.9.7"
  }
 },
 "nbformat": 4,
 "nbformat_minor": 5
}
